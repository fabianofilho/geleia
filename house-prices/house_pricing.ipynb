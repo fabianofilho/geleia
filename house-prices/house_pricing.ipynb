{
  "nbformat": 4,
  "nbformat_minor": 0,
  "metadata": {
    "colab": {
      "name": "house-pricing.ipynb",
      "provenance": []
    },
    "kernelspec": {
      "name": "python3",
      "display_name": "Python 3"
    }
  },
  "cells": [
    {
      "cell_type": "code",
      "metadata": {
        "id": "XQ5ZQB1zBll5",
        "colab_type": "code",
        "colab": {}
      },
      "source": [
        "# Importar pacotes\n",
        "import pandas as pd\n",
        "import numpy as np\n",
        "import tensorflow as tf\n",
        "from tensorflow.keras.models import Sequential \n",
        "from tensorflow.keras.layers import Dense \n",
        "import sklearn.metrics as m"
      ],
      "execution_count": 0,
      "outputs": []
    },
    {
      "cell_type": "code",
      "metadata": {
        "id": "kuizGwECEMxX",
        "colab_type": "code",
        "colab": {}
      },
      "source": [
        "# Importar dados\n",
        "(Xtrain, ytrain), (Xtest, ytest) = tf.keras.datasets.boston_housing.load_data(\n",
        "    path=\"boston_housing.npz\", test_split=0.2, seed=113)"
      ],
      "execution_count": 0,
      "outputs": []
    },
    {
      "cell_type": "code",
      "metadata": {
        "id": "qoHkgO0eBxrj",
        "colab_type": "code",
        "outputId": "dee13945-298e-4afc-bd44-4173c75a3cf7",
        "colab": {
          "base_uri": "https://localhost:8080/",
          "height": 32
        }
      },
      "source": [
        "Xtrain.shape"
      ],
      "execution_count": 6,
      "outputs": [
        {
          "output_type": "execute_result",
          "data": {
            "text/plain": [
              "(404, 13)"
            ]
          },
          "metadata": {
            "tags": []
          },
          "execution_count": 6
        }
      ]
    },
    {
      "cell_type": "code",
      "metadata": {
        "id": "iO7SWDfvB9i-",
        "colab_type": "code",
        "colab": {}
      },
      "source": [
        "# Criar rede neural\n",
        "model = Sequential()\n",
        "model.add(Dense(64, activation='relu', input_dim=Xtrain.shape[1]))\n",
        "model.add(Dense(1))"
      ],
      "execution_count": 0,
      "outputs": []
    },
    {
      "cell_type": "code",
      "metadata": {
        "id": "x7g8rNJ7ChnO",
        "colab_type": "code",
        "colab": {}
      },
      "source": [
        "model.compile(optimizer= 'rmsprop', loss='mse', metrics=['mae'])"
      ],
      "execution_count": 0,
      "outputs": []
    },
    {
      "cell_type": "code",
      "metadata": {
        "id": "ZRJzv-NSDIGt",
        "colab_type": "code",
        "outputId": "511b0da7-153f-4d47-d18c-2821c63cd507",
        "colab": {
          "base_uri": "https://localhost:8080/",
          "height": 1000
        }
      },
      "source": [
        "model.fit(Xtrain,ytrain,\n",
        "batch_size=32,\n",
        "epochs=100,\n",
        "verbose=1,\n",
        "validation_data=(Xtest, ytest))"
      ],
      "execution_count": 9,
      "outputs": [
        {
          "output_type": "stream",
          "text": [
            "Epoch 1/100\n",
            "13/13 [==============================] - 0s 13ms/step - loss: 572.9804 - mae: 17.1177 - val_loss: 191.5164 - val_mae: 9.4601\n",
            "Epoch 2/100\n",
            "13/13 [==============================] - 0s 4ms/step - loss: 164.1963 - mae: 9.3914 - val_loss: 102.9563 - val_mae: 7.9344\n",
            "Epoch 3/100\n",
            "13/13 [==============================] - 0s 4ms/step - loss: 116.9881 - mae: 8.0865 - val_loss: 83.0346 - val_mae: 6.4150\n",
            "Epoch 4/100\n",
            "13/13 [==============================] - 0s 4ms/step - loss: 89.7318 - mae: 7.1105 - val_loss: 72.1821 - val_mae: 6.4056\n",
            "Epoch 5/100\n",
            "13/13 [==============================] - 0s 4ms/step - loss: 77.7381 - mae: 6.5004 - val_loss: 144.8821 - val_mae: 9.3780\n",
            "Epoch 6/100\n",
            "13/13 [==============================] - 0s 4ms/step - loss: 77.0642 - mae: 6.5573 - val_loss: 140.6332 - val_mae: 9.3100\n",
            "Epoch 7/100\n",
            "13/13 [==============================] - 0s 4ms/step - loss: 86.4939 - mae: 6.9958 - val_loss: 59.8406 - val_mae: 5.5482\n",
            "Epoch 8/100\n",
            "13/13 [==============================] - 0s 3ms/step - loss: 69.4444 - mae: 6.0365 - val_loss: 71.2780 - val_mae: 5.7788\n",
            "Epoch 9/100\n",
            "13/13 [==============================] - 0s 4ms/step - loss: 71.0137 - mae: 6.1560 - val_loss: 54.7925 - val_mae: 5.4455\n",
            "Epoch 10/100\n",
            "13/13 [==============================] - 0s 4ms/step - loss: 69.7707 - mae: 6.1269 - val_loss: 54.8519 - val_mae: 5.6799\n",
            "Epoch 11/100\n",
            "13/13 [==============================] - 0s 3ms/step - loss: 65.9259 - mae: 6.1781 - val_loss: 59.2285 - val_mae: 6.2720\n",
            "Epoch 12/100\n",
            "13/13 [==============================] - 0s 4ms/step - loss: 74.5139 - mae: 6.4623 - val_loss: 75.1712 - val_mae: 7.3969\n",
            "Epoch 13/100\n",
            "13/13 [==============================] - 0s 4ms/step - loss: 61.8075 - mae: 5.8697 - val_loss: 69.7647 - val_mae: 5.7160\n",
            "Epoch 14/100\n",
            "13/13 [==============================] - 0s 5ms/step - loss: 63.8259 - mae: 5.7560 - val_loss: 49.6749 - val_mae: 5.3854\n",
            "Epoch 15/100\n",
            "13/13 [==============================] - 0s 4ms/step - loss: 52.7838 - mae: 5.0642 - val_loss: 49.1311 - val_mae: 4.6388\n",
            "Epoch 16/100\n",
            "13/13 [==============================] - 0s 4ms/step - loss: 65.0058 - mae: 6.0316 - val_loss: 45.3689 - val_mae: 4.7323\n",
            "Epoch 17/100\n",
            "13/13 [==============================] - 0s 4ms/step - loss: 57.9975 - mae: 5.4528 - val_loss: 55.9173 - val_mae: 6.1352\n",
            "Epoch 18/100\n",
            "13/13 [==============================] - 0s 4ms/step - loss: 67.4489 - mae: 6.2155 - val_loss: 74.0153 - val_mae: 7.4375\n",
            "Epoch 19/100\n",
            "13/13 [==============================] - 0s 4ms/step - loss: 55.9804 - mae: 5.5995 - val_loss: 70.8052 - val_mae: 7.2415\n",
            "Epoch 20/100\n",
            "13/13 [==============================] - 0s 4ms/step - loss: 59.5099 - mae: 5.8073 - val_loss: 48.8852 - val_mae: 4.5115\n",
            "Epoch 21/100\n",
            "13/13 [==============================] - 0s 4ms/step - loss: 51.6795 - mae: 5.2977 - val_loss: 104.8971 - val_mae: 8.8725\n",
            "Epoch 22/100\n",
            "13/13 [==============================] - 0s 4ms/step - loss: 53.5697 - mae: 5.5530 - val_loss: 71.3738 - val_mae: 7.0721\n",
            "Epoch 23/100\n",
            "13/13 [==============================] - 0s 4ms/step - loss: 68.4555 - mae: 6.2758 - val_loss: 40.6339 - val_mae: 4.3299\n",
            "Epoch 24/100\n",
            "13/13 [==============================] - 0s 4ms/step - loss: 41.4750 - mae: 4.6375 - val_loss: 42.1281 - val_mae: 4.8540\n",
            "Epoch 25/100\n",
            "13/13 [==============================] - 0s 4ms/step - loss: 59.8105 - mae: 6.0160 - val_loss: 58.5801 - val_mae: 6.2749\n",
            "Epoch 26/100\n",
            "13/13 [==============================] - 0s 4ms/step - loss: 58.1810 - mae: 5.5334 - val_loss: 40.5419 - val_mae: 4.6441\n",
            "Epoch 27/100\n",
            "13/13 [==============================] - 0s 4ms/step - loss: 44.0754 - mae: 4.8175 - val_loss: 130.2947 - val_mae: 9.5910\n",
            "Epoch 28/100\n",
            "13/13 [==============================] - 0s 4ms/step - loss: 53.9037 - mae: 5.2108 - val_loss: 38.3707 - val_mae: 4.1844\n",
            "Epoch 29/100\n",
            "13/13 [==============================] - 0s 4ms/step - loss: 51.9766 - mae: 5.3468 - val_loss: 47.7333 - val_mae: 5.6452\n",
            "Epoch 30/100\n",
            "13/13 [==============================] - 0s 4ms/step - loss: 60.3041 - mae: 5.5200 - val_loss: 37.2373 - val_mae: 4.3080\n",
            "Epoch 31/100\n",
            "13/13 [==============================] - 0s 4ms/step - loss: 36.3601 - mae: 4.2450 - val_loss: 101.2119 - val_mae: 8.8147\n",
            "Epoch 32/100\n",
            "13/13 [==============================] - 0s 4ms/step - loss: 57.9977 - mae: 5.8685 - val_loss: 36.9115 - val_mae: 4.4869\n",
            "Epoch 33/100\n",
            "13/13 [==============================] - 0s 4ms/step - loss: 38.6460 - mae: 4.6571 - val_loss: 58.1831 - val_mae: 6.6844\n",
            "Epoch 34/100\n",
            "13/13 [==============================] - 0s 4ms/step - loss: 58.7946 - mae: 5.8803 - val_loss: 44.7089 - val_mae: 4.5528\n",
            "Epoch 35/100\n",
            "13/13 [==============================] - 0s 4ms/step - loss: 42.0844 - mae: 4.7156 - val_loss: 52.2378 - val_mae: 5.0471\n",
            "Epoch 36/100\n",
            "13/13 [==============================] - 0s 4ms/step - loss: 53.5407 - mae: 5.5178 - val_loss: 39.1944 - val_mae: 4.1224\n",
            "Epoch 37/100\n",
            "13/13 [==============================] - 0s 4ms/step - loss: 40.6032 - mae: 4.8044 - val_loss: 89.1377 - val_mae: 8.5525\n",
            "Epoch 38/100\n",
            "13/13 [==============================] - 0s 4ms/step - loss: 49.3098 - mae: 5.3490 - val_loss: 63.9318 - val_mae: 6.7963\n",
            "Epoch 39/100\n",
            "13/13 [==============================] - 0s 4ms/step - loss: 41.2878 - mae: 4.8423 - val_loss: 56.5742 - val_mae: 6.4836\n",
            "Epoch 40/100\n",
            "13/13 [==============================] - 0s 4ms/step - loss: 53.7713 - mae: 5.7259 - val_loss: 39.4803 - val_mae: 4.1774\n",
            "Epoch 41/100\n",
            "13/13 [==============================] - 0s 4ms/step - loss: 44.0810 - mae: 4.7734 - val_loss: 68.4761 - val_mae: 6.2579\n",
            "Epoch 42/100\n",
            "13/13 [==============================] - 0s 4ms/step - loss: 40.8624 - mae: 4.5995 - val_loss: 67.7192 - val_mae: 6.2492\n",
            "Epoch 43/100\n",
            "13/13 [==============================] - 0s 4ms/step - loss: 57.9013 - mae: 5.7749 - val_loss: 36.3872 - val_mae: 4.3824\n",
            "Epoch 44/100\n",
            "13/13 [==============================] - 0s 4ms/step - loss: 46.2329 - mae: 5.0906 - val_loss: 43.9231 - val_mae: 5.2196\n",
            "Epoch 45/100\n",
            "13/13 [==============================] - 0s 4ms/step - loss: 39.8528 - mae: 4.7384 - val_loss: 87.4912 - val_mae: 8.1041\n",
            "Epoch 46/100\n",
            "13/13 [==============================] - 0s 4ms/step - loss: 53.5380 - mae: 5.6532 - val_loss: 76.3517 - val_mae: 6.8838\n",
            "Epoch 47/100\n",
            "13/13 [==============================] - 0s 4ms/step - loss: 42.2802 - mae: 4.6225 - val_loss: 37.5336 - val_mae: 4.6473\n",
            "Epoch 48/100\n",
            "13/13 [==============================] - 0s 4ms/step - loss: 51.0074 - mae: 5.3803 - val_loss: 44.5023 - val_mae: 4.5735\n",
            "Epoch 49/100\n",
            "13/13 [==============================] - 0s 4ms/step - loss: 45.5729 - mae: 5.0653 - val_loss: 65.4019 - val_mae: 7.0412\n",
            "Epoch 50/100\n",
            "13/13 [==============================] - 0s 4ms/step - loss: 43.3741 - mae: 5.0254 - val_loss: 127.7058 - val_mae: 10.0305\n",
            "Epoch 51/100\n",
            "13/13 [==============================] - 0s 4ms/step - loss: 46.9023 - mae: 5.1934 - val_loss: 38.4750 - val_mae: 4.1830\n",
            "Epoch 52/100\n",
            "13/13 [==============================] - 0s 4ms/step - loss: 44.5434 - mae: 4.8986 - val_loss: 56.8041 - val_mae: 6.4315\n",
            "Epoch 53/100\n",
            "13/13 [==============================] - 0s 4ms/step - loss: 49.4949 - mae: 5.3263 - val_loss: 47.8590 - val_mae: 4.9759\n",
            "Epoch 54/100\n",
            "13/13 [==============================] - 0s 4ms/step - loss: 46.7508 - mae: 5.1713 - val_loss: 38.2861 - val_mae: 4.9154\n",
            "Epoch 55/100\n",
            "13/13 [==============================] - 0s 4ms/step - loss: 39.3890 - mae: 4.7289 - val_loss: 67.8644 - val_mae: 6.3775\n",
            "Epoch 56/100\n",
            "13/13 [==============================] - 0s 4ms/step - loss: 36.9448 - mae: 4.4594 - val_loss: 127.7119 - val_mae: 9.8849\n",
            "Epoch 57/100\n",
            "13/13 [==============================] - 0s 4ms/step - loss: 44.1419 - mae: 5.0031 - val_loss: 42.7168 - val_mae: 5.1235\n",
            "Epoch 58/100\n",
            "13/13 [==============================] - 0s 4ms/step - loss: 44.8986 - mae: 5.0971 - val_loss: 33.0822 - val_mae: 4.2388\n",
            "Epoch 59/100\n",
            "13/13 [==============================] - 0s 4ms/step - loss: 48.3255 - mae: 5.5512 - val_loss: 33.5376 - val_mae: 4.1144\n",
            "Epoch 60/100\n",
            "13/13 [==============================] - 0s 4ms/step - loss: 30.8494 - mae: 4.0605 - val_loss: 32.4139 - val_mae: 4.1648\n",
            "Epoch 61/100\n",
            "13/13 [==============================] - 0s 4ms/step - loss: 51.2470 - mae: 5.3879 - val_loss: 31.6582 - val_mae: 3.9520\n",
            "Epoch 62/100\n",
            "13/13 [==============================] - 0s 4ms/step - loss: 40.8337 - mae: 4.7709 - val_loss: 67.6632 - val_mae: 6.4156\n",
            "Epoch 63/100\n",
            "13/13 [==============================] - 0s 4ms/step - loss: 42.7991 - mae: 5.0359 - val_loss: 38.2898 - val_mae: 5.0109\n",
            "Epoch 64/100\n",
            "13/13 [==============================] - 0s 4ms/step - loss: 43.9873 - mae: 5.1956 - val_loss: 31.8485 - val_mae: 3.8317\n",
            "Epoch 65/100\n",
            "13/13 [==============================] - 0s 4ms/step - loss: 57.8442 - mae: 5.6704 - val_loss: 33.9417 - val_mae: 3.9267\n",
            "Epoch 66/100\n",
            "13/13 [==============================] - 0s 4ms/step - loss: 36.1139 - mae: 4.3746 - val_loss: 84.3092 - val_mae: 8.0075\n",
            "Epoch 67/100\n",
            "13/13 [==============================] - 0s 4ms/step - loss: 39.6852 - mae: 4.7500 - val_loss: 31.4055 - val_mae: 3.8053\n",
            "Epoch 68/100\n",
            "13/13 [==============================] - 0s 4ms/step - loss: 38.1179 - mae: 4.7348 - val_loss: 52.2878 - val_mae: 5.9402\n",
            "Epoch 69/100\n",
            "13/13 [==============================] - 0s 4ms/step - loss: 44.2323 - mae: 5.1166 - val_loss: 31.2352 - val_mae: 4.0042\n",
            "Epoch 70/100\n",
            "13/13 [==============================] - 0s 4ms/step - loss: 51.2273 - mae: 5.3574 - val_loss: 34.0099 - val_mae: 4.4794\n",
            "Epoch 71/100\n",
            "13/13 [==============================] - 0s 4ms/step - loss: 33.3926 - mae: 4.3182 - val_loss: 114.3229 - val_mae: 9.6907\n",
            "Epoch 72/100\n",
            "13/13 [==============================] - 0s 4ms/step - loss: 43.0068 - mae: 4.8403 - val_loss: 65.4570 - val_mae: 7.1297\n",
            "Epoch 73/100\n",
            "13/13 [==============================] - 0s 4ms/step - loss: 42.5031 - mae: 4.8790 - val_loss: 63.8257 - val_mae: 6.9468\n",
            "Epoch 74/100\n",
            "13/13 [==============================] - 0s 4ms/step - loss: 44.3586 - mae: 5.1192 - val_loss: 43.8942 - val_mae: 4.8134\n",
            "Epoch 75/100\n",
            "13/13 [==============================] - 0s 4ms/step - loss: 43.6591 - mae: 4.9198 - val_loss: 66.7960 - val_mae: 6.4142\n",
            "Epoch 76/100\n",
            "13/13 [==============================] - 0s 4ms/step - loss: 42.9758 - mae: 5.0376 - val_loss: 33.4480 - val_mae: 3.9042\n",
            "Epoch 77/100\n",
            "13/13 [==============================] - 0s 4ms/step - loss: 47.0705 - mae: 5.3376 - val_loss: 50.5806 - val_mae: 6.1675\n",
            "Epoch 78/100\n",
            "13/13 [==============================] - 0s 4ms/step - loss: 38.4282 - mae: 4.6930 - val_loss: 29.8536 - val_mae: 3.9214\n",
            "Epoch 79/100\n",
            "13/13 [==============================] - 0s 4ms/step - loss: 46.3844 - mae: 5.2838 - val_loss: 34.8543 - val_mae: 4.6601\n",
            "Epoch 80/100\n",
            "13/13 [==============================] - 0s 4ms/step - loss: 36.4179 - mae: 4.4976 - val_loss: 81.2822 - val_mae: 7.6833\n",
            "Epoch 81/100\n",
            "13/13 [==============================] - 0s 4ms/step - loss: 44.7364 - mae: 5.1813 - val_loss: 43.4133 - val_mae: 5.3273\n",
            "Epoch 82/100\n",
            "13/13 [==============================] - 0s 4ms/step - loss: 42.6245 - mae: 4.9687 - val_loss: 53.7233 - val_mae: 5.5037\n",
            "Epoch 83/100\n",
            "13/13 [==============================] - 0s 4ms/step - loss: 41.8640 - mae: 5.0195 - val_loss: 36.6760 - val_mae: 4.1096\n",
            "Epoch 84/100\n",
            "13/13 [==============================] - 0s 4ms/step - loss: 40.6041 - mae: 4.7873 - val_loss: 43.7237 - val_mae: 5.4663\n",
            "Epoch 85/100\n",
            "13/13 [==============================] - 0s 4ms/step - loss: 44.4580 - mae: 4.9941 - val_loss: 49.8761 - val_mae: 5.2330\n",
            "Epoch 86/100\n",
            "13/13 [==============================] - 0s 4ms/step - loss: 40.4274 - mae: 4.7923 - val_loss: 57.8576 - val_mae: 6.6897\n",
            "Epoch 87/100\n",
            "13/13 [==============================] - 0s 4ms/step - loss: 51.4348 - mae: 5.5712 - val_loss: 36.1006 - val_mae: 4.7764\n",
            "Epoch 88/100\n",
            "13/13 [==============================] - 0s 4ms/step - loss: 36.5915 - mae: 4.6117 - val_loss: 72.8621 - val_mae: 7.3255\n",
            "Epoch 89/100\n",
            "13/13 [==============================] - 0s 4ms/step - loss: 43.5176 - mae: 4.9305 - val_loss: 29.5294 - val_mae: 3.9226\n",
            "Epoch 90/100\n",
            "13/13 [==============================] - 0s 4ms/step - loss: 37.9189 - mae: 4.6555 - val_loss: 103.8171 - val_mae: 9.1028\n",
            "Epoch 91/100\n",
            "13/13 [==============================] - 0s 4ms/step - loss: 44.8048 - mae: 5.0997 - val_loss: 29.1094 - val_mae: 3.8262\n",
            "Epoch 92/100\n",
            "13/13 [==============================] - 0s 4ms/step - loss: 39.0424 - mae: 4.8456 - val_loss: 31.3509 - val_mae: 3.7648\n",
            "Epoch 93/100\n",
            "13/13 [==============================] - 0s 4ms/step - loss: 44.6081 - mae: 5.0483 - val_loss: 77.3482 - val_mae: 7.2478\n",
            "Epoch 94/100\n",
            "13/13 [==============================] - 0s 4ms/step - loss: 36.5948 - mae: 4.5135 - val_loss: 34.1017 - val_mae: 4.6217\n",
            "Epoch 95/100\n",
            "13/13 [==============================] - 0s 4ms/step - loss: 43.7345 - mae: 5.0735 - val_loss: 34.1725 - val_mae: 3.9613\n",
            "Epoch 96/100\n",
            "13/13 [==============================] - 0s 4ms/step - loss: 45.2456 - mae: 5.0855 - val_loss: 46.8690 - val_mae: 5.8002\n",
            "Epoch 97/100\n",
            "13/13 [==============================] - 0s 4ms/step - loss: 33.1799 - mae: 4.4205 - val_loss: 34.6489 - val_mae: 4.6526\n",
            "Epoch 98/100\n",
            "13/13 [==============================] - 0s 4ms/step - loss: 40.4972 - mae: 4.9097 - val_loss: 28.6462 - val_mae: 3.8700\n",
            "Epoch 99/100\n",
            "13/13 [==============================] - 0s 4ms/step - loss: 41.3381 - mae: 4.9664 - val_loss: 35.7493 - val_mae: 4.7503\n",
            "Epoch 100/100\n",
            "13/13 [==============================] - 0s 4ms/step - loss: 42.1099 - mae: 4.9443 - val_loss: 71.3413 - val_mae: 7.2648\n"
          ],
          "name": "stdout"
        },
        {
          "output_type": "execute_result",
          "data": {
            "text/plain": [
              "<tensorflow.python.keras.callbacks.History at 0x7fe29fad2c50>"
            ]
          },
          "metadata": {
            "tags": []
          },
          "execution_count": 9
        }
      ]
    },
    {
      "cell_type": "code",
      "metadata": {
        "id": "XMjO5dclDc8v",
        "colab_type": "code",
        "outputId": "b4c21d44-e3d7-4834-da0d-6c34a2c2b7b5",
        "colab": {
          "base_uri": "https://localhost:8080/",
          "height": 32
        }
      },
      "source": [
        "score = model.evaluate(Xtest, batch_size=32)"
      ],
      "execution_count": 10,
      "outputs": [
        {
          "output_type": "stream",
          "text": [
            "4/4 [==============================] - 0s 1ms/step - loss: 0.0000e+00 - mae: 0.0000e+00\n"
          ],
          "name": "stdout"
        }
      ]
    },
    {
      "cell_type": "code",
      "metadata": {
        "id": "YrAbs8ReDleu",
        "colab_type": "code",
        "colab": {}
      },
      "source": [
        "p = model.predict(Xtest, batch_size=32)"
      ],
      "execution_count": 0,
      "outputs": []
    },
    {
      "cell_type": "code",
      "metadata": {
        "id": "e9jJ4Pp4DycG",
        "colab_type": "code",
        "colab": {}
      },
      "source": [
        "rmse = np.sqrt(m.mean_squared_error(ytest, p))"
      ],
      "execution_count": 0,
      "outputs": []
    },
    {
      "cell_type": "code",
      "metadata": {
        "id": "ndR9PgPLD6Ot",
        "colab_type": "code",
        "outputId": "d48420d1-0e36-4c18-8b06-fbf9e521a465",
        "colab": {
          "base_uri": "https://localhost:8080/",
          "height": 32
        }
      },
      "source": [
        "rmse"
      ],
      "execution_count": 13,
      "outputs": [
        {
          "output_type": "execute_result",
          "data": {
            "text/plain": [
              "8.446377388773017"
            ]
          },
          "metadata": {
            "tags": []
          },
          "execution_count": 13
        }
      ]
    },
    {
      "cell_type": "code",
      "metadata": {
        "id": "5AZPXnm7FAFO",
        "colab_type": "code",
        "colab": {}
      },
      "source": [
        "Xtest = pd.DataFrame(Xtest)"
      ],
      "execution_count": 0,
      "outputs": []
    },
    {
      "cell_type": "code",
      "metadata": {
        "id": "p_5zQgoXD70G",
        "colab_type": "code",
        "outputId": "7dd4eab8-1d46-4507-90cc-cfecc66139a7",
        "colab": {
          "base_uri": "https://localhost:8080/",
          "height": 197
        }
      },
      "source": [
        "sub = pd.DataFrame({'Id': Xtest.index, 'SalePrice': p.reshape((p.shape[0]))})\n",
        "print(sub.head(10))"
      ],
      "execution_count": 15,
      "outputs": [
        {
          "output_type": "stream",
          "text": [
            "   Id  SalePrice\n",
            "0   0  16.732504\n",
            "1   1  27.308239\n",
            "2   2  26.821081\n",
            "3   3  34.897312\n",
            "4   4  28.929342\n",
            "5   5  26.596319\n",
            "6   6  33.236248\n",
            "7   7  29.194937\n",
            "8   8  22.329073\n",
            "9   9  29.758930\n"
          ],
          "name": "stdout"
        }
      ]
    },
    {
      "cell_type": "code",
      "metadata": {
        "id": "TuWCCvATEydr",
        "colab_type": "code",
        "colab": {}
      },
      "source": [
        ""
      ],
      "execution_count": 0,
      "outputs": []
    }
  ]
}